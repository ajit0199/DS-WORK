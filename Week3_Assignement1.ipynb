{
 "cells": [
  {
   "cell_type": "markdown",
   "id": "b6639bac-8b3f-4ffa-b74d-ce7520747c86",
   "metadata": {},
   "source": [
    "Q1. Which keyword is used to create a function? Create a function to return a list of odd numbers in the\n",
    "range of 1 to 25."
   ]
  },
  {
   "cell_type": "markdown",
   "id": "af19008d-c766-4898-856f-213349ee940e",
   "metadata": {},
   "source": [
    "def keyword is used to create a funstion where write an name and pair of parenthesis then add colon :\n",
    "Below I added the example"
   ]
  },
  {
   "cell_type": "code",
   "execution_count": 1,
   "id": "056e14bd-c094-4cc5-94a3-304680a95484",
   "metadata": {},
   "outputs": [],
   "source": [
    "def odd():\n",
    "    odd_number =[]\n",
    "    for i in range(1,25):\n",
    "        if i%2 !=0:\n",
    "            odd_number.append(i)\n",
    "    return odd_number"
   ]
  },
  {
   "cell_type": "code",
   "execution_count": 2,
   "id": "c17ebfd6-c3b1-44bb-9792-abbeb88484c5",
   "metadata": {},
   "outputs": [
    {
     "data": {
      "text/plain": [
       "[1, 3, 5, 7, 9, 11, 13, 15, 17, 19, 21, 23]"
      ]
     },
     "execution_count": 2,
     "metadata": {},
     "output_type": "execute_result"
    }
   ],
   "source": [
    "odd()"
   ]
  },
  {
   "cell_type": "markdown",
   "id": "d497d7be-99ab-45f7-9ff2-804f57cda898",
   "metadata": {},
   "source": [
    "Q2. Why *args and **kwargs is used in some functions? Create a function each for *args and **kwargs\n",
    "to demonstrate their use."
   ]
  },
  {
   "cell_type": "code",
   "execution_count": 3,
   "id": "08ba2be1-c554-475f-9cab-c14f6df69188",
   "metadata": {},
   "outputs": [],
   "source": [
    "def test(*agrs):\n",
    "    return agrs"
   ]
  },
  {
   "cell_type": "code",
   "execution_count": 4,
   "id": "fb02dffa-a5e6-48a5-8750-d16454977f72",
   "metadata": {},
   "outputs": [
    {
     "data": {
      "text/plain": [
       "tuple"
      ]
     },
     "execution_count": 4,
     "metadata": {},
     "output_type": "execute_result"
    }
   ],
   "source": [
    "type(test())"
   ]
  },
  {
   "cell_type": "code",
   "execution_count": 5,
   "id": "524818b7-e086-4e2f-9e36-0ff2aa0ae9f6",
   "metadata": {},
   "outputs": [
    {
     "data": {
      "text/plain": [
       "(1, 2)"
      ]
     },
     "execution_count": 5,
     "metadata": {},
     "output_type": "execute_result"
    }
   ],
   "source": [
    "test(1,2)"
   ]
  },
  {
   "cell_type": "code",
   "execution_count": 6,
   "id": "8b4b5e50-a354-4a54-ad0f-373fbd7695be",
   "metadata": {},
   "outputs": [
    {
     "data": {
      "text/plain": [
       "([1, 3],)"
      ]
     },
     "execution_count": 6,
     "metadata": {},
     "output_type": "execute_result"
    }
   ],
   "source": [
    "test([1,3])"
   ]
  },
  {
   "cell_type": "code",
   "execution_count": 7,
   "id": "13381d55-f11d-4103-af7c-44ade6c012f4",
   "metadata": {},
   "outputs": [
    {
     "data": {
      "text/plain": [
       "tuple"
      ]
     },
     "execution_count": 7,
     "metadata": {},
     "output_type": "execute_result"
    }
   ],
   "source": [
    "type(test([1,3]))"
   ]
  },
  {
   "cell_type": "code",
   "execution_count": 8,
   "id": "e08c69ae-cff6-4b85-afbe-d8eef0a817d5",
   "metadata": {},
   "outputs": [
    {
     "data": {
      "text/plain": [
       "(1, 2, 'ajit', 'gaud', [1, 2, 3, 5])"
      ]
     },
     "execution_count": 8,
     "metadata": {},
     "output_type": "execute_result"
    }
   ],
   "source": [
    "test(1,2,\"ajit\",\"gaud\",[1,2,3,5])"
   ]
  },
  {
   "cell_type": "code",
   "execution_count": 9,
   "id": "84a8d6c6-51e5-40fe-847b-2202958c469d",
   "metadata": {},
   "outputs": [],
   "source": [
    "def test1(**kwargs):\n",
    "    return kwargs"
   ]
  },
  {
   "cell_type": "code",
   "execution_count": 10,
   "id": "9eaaf029-093f-44c1-8ba2-7aa16d8758a9",
   "metadata": {},
   "outputs": [
    {
     "data": {
      "text/plain": [
       "function"
      ]
     },
     "execution_count": 10,
     "metadata": {},
     "output_type": "execute_result"
    }
   ],
   "source": [
    "type(test1)"
   ]
  },
  {
   "cell_type": "markdown",
   "id": "275277cf-2a95-4a94-9586-b9abff7287b1",
   "metadata": {},
   "source": [
    "Q3. What is an iterator in python? Name the method used to initialise the iterator object and the method\n",
    "used for iteration. Use these methods to print the first five elements of the given list [2, 4, 6, 8, 10, 12, 14,\n",
    "16, 18, 20]."
   ]
  },
  {
   "cell_type": "markdown",
   "id": "89958778-8c1f-405c-8b22-1233bfddbe1e",
   "metadata": {},
   "source": [
    "In Python, an iterator is an object that allows you to iterate (i.e., loop) over a collection of elements. It provides a way to access the elements one by one without exposing the underlying implementation details of the collection.\n",
    "\n",
    "To initialize an iterator object in Python, you can use the iter() method. This method takes an iterable object, such as a list, and returns an iterator object associated with that iterable.\n",
    "\n",
    "To iterate over the elements of an iterator, you can use the next() method. This method retrieves the next element from the iterator. By repeatedly calling next() on the iterator, you can access the elements one by one until you reach the end of the iterator.\n",
    "\n",
    "Here's how you can use these methods to print the first five elements of the given list [2, 4, 6, 8, 10, 12, 14, 16, 18, 20]:"
   ]
  },
  {
   "cell_type": "code",
   "execution_count": 11,
   "id": "5481755b-f66b-4ccc-8f1b-1c11553a7d6a",
   "metadata": {},
   "outputs": [
    {
     "name": "stdout",
     "output_type": "stream",
     "text": [
      "2\n",
      "4\n",
      "6\n",
      "8\n",
      "10\n"
     ]
    }
   ],
   "source": [
    "my_list = [2, 4, 6, 8, 10, 12, 14, 16, 18, 20]\n",
    "my_iterator = iter(my_list)\n",
    "\n",
    "for _ in range(5):\n",
    "    element = next(my_iterator)\n",
    "    print(element)\n"
   ]
  },
  {
   "cell_type": "markdown",
   "id": "9575a7a2-6e2c-4b7e-8b91-e8d799ee6c87",
   "metadata": {},
   "source": [
    "Q4. What is a generator function in python? Why yield keyword is used? Give an example of a generator\n",
    "function."
   ]
  },
  {
   "cell_type": "markdown",
   "id": "560c315e-566a-4f46-9249-550fd647c164",
   "metadata": {},
   "source": [
    "In Python, a generator function is a special type of function that generates a sequence of values using the yield keyword. Unlike regular functions that return a single value and then terminate, generator functions can pause and resume their execution, allowing them to produce a series of values over time. This makes them memory-efficient and useful for working with large or infinite sequences."
   ]
  },
  {
   "cell_type": "markdown",
   "id": "ce47956d-44b0-4d2e-996f-a6eec075bed8",
   "metadata": {},
   "source": [
    "The yield keyword is used in a generator function to indicate the points at which the generator should pause and yield a value to the caller. When a generator function encounters a yield statement, it temporarily suspends its execution and returns the yielded value. The state of the function is saved, allowing it to resume from where it left off the next time a value is requested."
   ]
  },
  {
   "cell_type": "code",
   "execution_count": 12,
   "id": "56ae4827-7313-4f96-a586-4b3ae0b0636a",
   "metadata": {},
   "outputs": [
    {
     "name": "stdout",
     "output_type": "stream",
     "text": [
      "0\n",
      "2\n",
      "4\n",
      "6\n",
      "8\n"
     ]
    }
   ],
   "source": [
    "def even_numbers():\n",
    "    n = 0\n",
    "    while True:\n",
    "        yield n\n",
    "        n += 2\n",
    "even_gen = even_numbers()\n",
    "\n",
    "for _ in range(5):\n",
    "    print(next(even_gen))\n"
   ]
  },
  {
   "cell_type": "markdown",
   "id": "0bf3e259-583b-45ea-b50e-ce9a7f6c9fa0",
   "metadata": {},
   "source": [
    "Q5. Create a generator function for prime numbers less than 1000. Use the next() method to print the\n",
    "first 20 prime numbers."
   ]
  },
  {
   "cell_type": "code",
   "execution_count": 13,
   "id": "821b8f0d-a3e6-482b-adac-e44907e019d2",
   "metadata": {},
   "outputs": [],
   "source": [
    "def prime_numbers():\n",
    "    primes = []\n",
    "    num = 2\n",
    "    while num < 1000:\n",
    "        is_prime = True\n",
    "        for prime in primes:\n",
    "            if num % prime == 0:\n",
    "                is_prime = False\n",
    "                break\n",
    "        if is_prime:\n",
    "            primes.append(num)\n",
    "            yield num\n",
    "        num += 1\n"
   ]
  },
  {
   "cell_type": "code",
   "execution_count": 14,
   "id": "609db449-5e9b-4d1e-a4f7-f40f1fb2bee4",
   "metadata": {},
   "outputs": [
    {
     "name": "stdout",
     "output_type": "stream",
     "text": [
      "2\n",
      "3\n",
      "5\n",
      "7\n",
      "11\n",
      "13\n",
      "17\n",
      "19\n",
      "23\n",
      "29\n",
      "31\n",
      "37\n",
      "41\n",
      "43\n",
      "47\n",
      "53\n",
      "59\n",
      "61\n",
      "67\n",
      "71\n"
     ]
    }
   ],
   "source": [
    "prime_gen = prime_numbers()\n",
    "\n",
    "for _ in range(20):\n",
    "    prime = next(prime_gen)\n",
    "    print(prime)\n"
   ]
  },
  {
   "cell_type": "markdown",
   "id": "2d78d0d1-a89c-49fc-9671-3f61eb42cb20",
   "metadata": {},
   "source": [
    "Q6. Write a python program to print the first 10 Fibonacci numbers using a while loop."
   ]
  },
  {
   "cell_type": "code",
   "execution_count": 15,
   "id": "4596d199-dc6c-4362-899f-db3e9f707050",
   "metadata": {},
   "outputs": [
    {
     "name": "stdout",
     "output_type": "stream",
     "text": [
      "0\n",
      "1\n",
      "1\n",
      "2\n",
      "3\n",
      "5\n",
      "8\n",
      "13\n",
      "21\n",
      "34\n"
     ]
    }
   ],
   "source": [
    "num_terms = 10\n",
    "\n",
    "# Initializing the first two terms\n",
    "fibonacci_sequence = [0, 1]\n",
    "\n",
    "# Generating Fibonacci sequence\n",
    "while len(fibonacci_sequence) < num_terms:\n",
    "    next_term = fibonacci_sequence[-1] + fibonacci_sequence[-2]\n",
    "    fibonacci_sequence.append(next_term)\n",
    "\n",
    "# Printing the Fibonacci sequence\n",
    "for term in fibonacci_sequence:\n",
    "    print(term)\n"
   ]
  },
  {
   "cell_type": "markdown",
   "id": "5b2a0db2-13b3-4e5a-9dcc-13575ce71b00",
   "metadata": {},
   "source": [
    "Q7. Write a List Comprehension to iterate through the given string: ‘pwskills’.\n",
    "Expected output: ['p', 'w', 's', 'k', 'i', 'l', 'l', 's']"
   ]
  },
  {
   "cell_type": "code",
   "execution_count": 16,
   "id": "cc007888-6846-4f7b-ae9f-7cf61fe7dd65",
   "metadata": {},
   "outputs": [
    {
     "name": "stdout",
     "output_type": "stream",
     "text": [
      "['p', 'w', 's', 'k', 'i', 'l', 'l', 's']\n"
     ]
    }
   ],
   "source": [
    "string = 'pwskills'\n",
    "\n",
    "output = [char for char in string]\n",
    "\n",
    "print(output)\n"
   ]
  },
  {
   "cell_type": "markdown",
   "id": "6bf093d0-3af5-423e-bac4-f0beccc24ea9",
   "metadata": {},
   "source": [
    "Q8. Write a python program to check whether a given number is Palindrome or not using a while loop."
   ]
  },
  {
   "cell_type": "code",
   "execution_count": 17,
   "id": "c089c84a-8e2a-4e86-881a-2bc9e42920c2",
   "metadata": {},
   "outputs": [
    {
     "name": "stdin",
     "output_type": "stream",
     "text": [
      "Enter a number:  5\n"
     ]
    },
    {
     "name": "stdout",
     "output_type": "stream",
     "text": [
      "Palindrome\n"
     ]
    }
   ],
   "source": [
    "number = int(input(\"Enter a number: \"))\n",
    "\n",
    "original_number = number\n",
    "reverse_number = 0\n",
    "\n",
    "while number > 0:\n",
    "    digit = number % 10\n",
    "    reverse_number = reverse_number * 10 + digit\n",
    "    number //= 10\n",
    "\n",
    "if original_number == reverse_number:\n",
    "    print(\"Palindrome\")\n",
    "else:\n",
    "    print(\"Not Palindrome\")\n"
   ]
  },
  {
   "cell_type": "markdown",
   "id": "0796cfd2-8a23-4648-9114-b6675d2c5032",
   "metadata": {},
   "source": [
    "Q9. Write a code to print odd numbers from 1 to 100 using list comprehension.\n",
    "Note: Use a list comprehension to create a list from 1 to 100 and use another List comprehension to filter\n",
    "out odd numbers."
   ]
  },
  {
   "cell_type": "code",
   "execution_count": 18,
   "id": "3ccde34f-e1f3-4a4d-aa1b-88b44788d82a",
   "metadata": {},
   "outputs": [
    {
     "name": "stdout",
     "output_type": "stream",
     "text": [
      "[1, 3, 5, 7, 9, 11, 13, 15, 17, 19, 21, 23, 25, 27, 29, 31, 33, 35, 37, 39, 41, 43, 45, 47, 49, 51, 53, 55, 57, 59, 61, 63, 65, 67, 69, 71, 73, 75, 77, 79, 81, 83, 85, 87, 89, 91, 93, 95, 97, 99]\n"
     ]
    }
   ],
   "source": [
    "odd_numbers = [num for num in range(1, 101) if num % 2 != 0]\n",
    "\n",
    "print(odd_numbers)\n"
   ]
  },
  {
   "cell_type": "code",
   "execution_count": null,
   "id": "166f1cd4-e1f1-464f-84e1-1b5f9ef20db0",
   "metadata": {},
   "outputs": [],
   "source": []
  }
 ],
 "metadata": {
  "kernelspec": {
   "display_name": "Python 3 (ipykernel)",
   "language": "python",
   "name": "python3"
  },
  "language_info": {
   "codemirror_mode": {
    "name": "ipython",
    "version": 3
   },
   "file_extension": ".py",
   "mimetype": "text/x-python",
   "name": "python",
   "nbconvert_exporter": "python",
   "pygments_lexer": "ipython3",
   "version": "3.10.8"
  }
 },
 "nbformat": 4,
 "nbformat_minor": 5
}
