{
 "cells": [
  {
   "attachments": {},
   "cell_type": "markdown",
   "id": "c7f58365-2edc-499d-ad40-35d2eb63efdf",
   "metadata": {},
   "source": [
    "Q1. Create one variable containing following type of data:\n",
    "    string\n",
    "    list\n",
    "    float\n",
    "    tuple"
   ]
  },
  {
   "cell_type": "code",
   "execution_count": 1,
   "id": "4b3ad321-2df5-4887-bac0-cef406924c40",
   "metadata": {},
   "outputs": [],
   "source": [
    "a =\"ajit\""
   ]
  },
  {
   "cell_type": "code",
   "execution_count": 2,
   "id": "a8e3280b-0936-4457-99a0-33e8df2cc915",
   "metadata": {},
   "outputs": [
    {
     "data": {
      "text/plain": [
       "'ajit'"
      ]
     },
     "execution_count": 2,
     "metadata": {},
     "output_type": "execute_result"
    }
   ],
   "source": [
    "a"
   ]
  },
  {
   "cell_type": "code",
   "execution_count": 3,
   "id": "008eda13-da53-4bf1-8063-e1a1221e686c",
   "metadata": {},
   "outputs": [],
   "source": [
    "b =[1,2,3.5,\"ajit\", True ]"
   ]
  },
  {
   "cell_type": "code",
   "execution_count": 4,
   "id": "d2a70515-e686-45f7-bd67-2661db8683e3",
   "metadata": {},
   "outputs": [
    {
     "data": {
      "text/plain": [
       "[1, 2, 3.5, 'ajit', True]"
      ]
     },
     "execution_count": 4,
     "metadata": {},
     "output_type": "execute_result"
    }
   ],
   "source": [
    "b"
   ]
  },
  {
   "cell_type": "code",
   "execution_count": 5,
   "id": "ecf7d8aa-50ea-4e15-9b43-f9c40d5a6975",
   "metadata": {},
   "outputs": [],
   "source": [
    "c =2.5"
   ]
  },
  {
   "cell_type": "code",
   "execution_count": 6,
   "id": "cb7dda21-45e0-4e9f-b57b-22b2322c7391",
   "metadata": {},
   "outputs": [
    {
     "data": {
      "text/plain": [
       "2.5"
      ]
     },
     "execution_count": 6,
     "metadata": {},
     "output_type": "execute_result"
    }
   ],
   "source": [
    "c"
   ]
  },
  {
   "cell_type": "code",
   "execution_count": 7,
   "id": "128185a8-f3c8-4a6c-9cf1-4082997dcca6",
   "metadata": {},
   "outputs": [],
   "source": [
    "d=(2.5,2,5,\"ajit\")"
   ]
  },
  {
   "cell_type": "code",
   "execution_count": 8,
   "id": "d02d1ba8-2181-42af-b063-8b167e65cbec",
   "metadata": {},
   "outputs": [
    {
     "data": {
      "text/plain": [
       "(2.5, 2, 5, 'ajit')"
      ]
     },
     "execution_count": 8,
     "metadata": {},
     "output_type": "execute_result"
    }
   ],
   "source": [
    "d"
   ]
  },
  {
   "attachments": {},
   "cell_type": "markdown",
   "id": "6091fad3-7186-4584-bf50-8623387dfa19",
   "metadata": {},
   "source": [
    "Q2. Given are some following variables containing data:\n",
    "(i) var1 = ‘ ‘\n",
    "(ii) var2 = ‘[ DS , ML , Python]’\n",
    "(iii) var3 = [_‘DS’ , ’ML’ , ‘Python’ ]\n",
    "(iv) var4 = 1."
   ]
  },
  {
   "cell_type": "code",
   "execution_count": 9,
   "id": "f2bcf1b8-189a-46a0-8a0e-d4235a893a2b",
   "metadata": {},
   "outputs": [],
   "source": [
    "var1 = ''"
   ]
  },
  {
   "cell_type": "code",
   "execution_count": 10,
   "id": "67feb228-f7b8-4859-ab19-6e6d701a7308",
   "metadata": {},
   "outputs": [
    {
     "data": {
      "text/plain": [
       "str"
      ]
     },
     "execution_count": 10,
     "metadata": {},
     "output_type": "execute_result"
    }
   ],
   "source": [
    "type(var1)"
   ]
  },
  {
   "cell_type": "code",
   "execution_count": 11,
   "id": "35b403c7-bf3e-4927-b324-4e22c5619eb5",
   "metadata": {},
   "outputs": [],
   "source": [
    "var2 ='[DL, ML,Python]'"
   ]
  },
  {
   "cell_type": "code",
   "execution_count": 12,
   "id": "df1c8f19-9ec6-44ad-8e3e-aad2f36a8f18",
   "metadata": {},
   "outputs": [
    {
     "data": {
      "text/plain": [
       "str"
      ]
     },
     "execution_count": 12,
     "metadata": {},
     "output_type": "execute_result"
    }
   ],
   "source": [
    "type(var2)"
   ]
  },
  {
   "cell_type": "code",
   "execution_count": 13,
   "id": "87091544-3b62-490a-984d-10295da9d5c9",
   "metadata": {},
   "outputs": [],
   "source": [
    "var3 =['DS','ML', 'Python']"
   ]
  },
  {
   "cell_type": "code",
   "execution_count": 14,
   "id": "791a6f1c-090b-470f-8f09-7575c0f98cb2",
   "metadata": {},
   "outputs": [
    {
     "data": {
      "text/plain": [
       "list"
      ]
     },
     "execution_count": 14,
     "metadata": {},
     "output_type": "execute_result"
    }
   ],
   "source": [
    "type(var3)"
   ]
  },
  {
   "cell_type": "code",
   "execution_count": 15,
   "id": "f9fc7cf9-782e-464c-aa2f-05dcb2dffce7",
   "metadata": {},
   "outputs": [],
   "source": [
    "var4=1."
   ]
  },
  {
   "cell_type": "code",
   "execution_count": 16,
   "id": "cad94a78-52b7-4cdd-b559-b354403ba567",
   "metadata": {},
   "outputs": [
    {
     "data": {
      "text/plain": [
       "float"
      ]
     },
     "execution_count": 16,
     "metadata": {},
     "output_type": "execute_result"
    }
   ],
   "source": [
    "type(var4)"
   ]
  },
  {
   "attachments": {},
   "cell_type": "markdown",
   "id": "37b7d5b0-6b87-44cd-bf27-1170ae36b7eb",
   "metadata": {},
   "source": [
    "Q3. Explain the use of the following operators using an example:\n",
    "(i) /\n",
    "(ii) %\n",
    "(iii) //\n",
    "(iv) **"
   ]
  },
  {
   "attachments": {},
   "cell_type": "markdown",
   "id": "88c9a24a-f268-4bcd-8cfd-3cbaf0298fc7",
   "metadata": {},
   "source": [
    "(i)/ : it's divison operator return value qoutient.\n",
    "Below is example:"
   ]
  },
  {
   "cell_type": "code",
   "execution_count": 17,
   "id": "ac34c2f8-a938-4488-9938-eb87a90cb8ff",
   "metadata": {},
   "outputs": [
    {
     "data": {
      "text/plain": [
       "2.0"
      ]
     },
     "execution_count": 17,
     "metadata": {},
     "output_type": "execute_result"
    }
   ],
   "source": [
    "10/5"
   ]
  },
  {
   "attachments": {},
   "cell_type": "markdown",
   "id": "15f64ca4-cee5-445f-bc15-adb44c82499b",
   "metadata": {},
   "source": [
    "(ii) % : it's modulus operator return remainder.\n",
    "Below is example:"
   ]
  },
  {
   "cell_type": "code",
   "execution_count": 18,
   "id": "6e457370-d73c-49fb-91ed-8f4bc8075f04",
   "metadata": {},
   "outputs": [
    {
     "data": {
      "text/plain": [
       "1"
      ]
     },
     "execution_count": 18,
     "metadata": {},
     "output_type": "execute_result"
    }
   ],
   "source": [
    "10%3"
   ]
  },
  {
   "attachments": {},
   "cell_type": "markdown",
   "id": "60a16991-671f-49ee-8fd8-87b24ac5ab9b",
   "metadata": {},
   "source": [
    "(iii) // : it's the floor divison operator it return the near whole number\n",
    "Below is the example:"
   ]
  },
  {
   "cell_type": "code",
   "execution_count": 19,
   "id": "2776031d-efb9-45b6-b9d3-8886f77367d2",
   "metadata": {},
   "outputs": [
    {
     "data": {
      "text/plain": [
       "9"
      ]
     },
     "execution_count": 19,
     "metadata": {},
     "output_type": "execute_result"
    }
   ],
   "source": [
    "19//2"
   ]
  },
  {
   "attachments": {},
   "cell_type": "markdown",
   "id": "9155046e-8f8d-4304-881b-d1095455fcb4",
   "metadata": {},
   "source": [
    "(iv) ** : it's expontial operator \n",
    "Below is the example:"
   ]
  },
  {
   "cell_type": "code",
   "execution_count": 20,
   "id": "00e13eb2-e72b-414c-9f17-07f9c7ef3822",
   "metadata": {},
   "outputs": [
    {
     "data": {
      "text/plain": [
       "4"
      ]
     },
     "execution_count": 20,
     "metadata": {},
     "output_type": "execute_result"
    }
   ],
   "source": [
    "2**2"
   ]
  },
  {
   "attachments": {},
   "cell_type": "markdown",
   "id": "a2df0608-4f1c-4bb8-a88e-2a1b337fbacd",
   "metadata": {},
   "source": [
    "Q4. Create a list of length 10 of your choice containing multiple types of data. Using for loop print the\n",
    "element and its data type."
   ]
  },
  {
   "cell_type": "code",
   "execution_count": 21,
   "id": "6856fc4f-cfa4-4340-aec0-a8a12139b449",
   "metadata": {},
   "outputs": [],
   "source": [
    "l = [1,2, 'ajit', 'pwskills',\"DS\", 'ML', 3.5,[1,2,3.5], (5,6),9]"
   ]
  },
  {
   "cell_type": "code",
   "execution_count": 23,
   "id": "d1230723-36c1-4a09-b14b-030a7f01809d",
   "metadata": {},
   "outputs": [
    {
     "name": "stdout",
     "output_type": "stream",
     "text": [
      "1 <class 'int'>\n",
      "2 <class 'int'>\n",
      "ajit <class 'str'>\n",
      "pwskills <class 'str'>\n",
      "DS <class 'str'>\n",
      "ML <class 'str'>\n",
      "3.5 <class 'float'>\n",
      "[1, 2, 3.5] <class 'list'>\n",
      "(5, 6) <class 'tuple'>\n",
      "9 <class 'int'>\n"
     ]
    }
   ],
   "source": [
    "for i in l :\n",
    "    print(i,type(i))   "
   ]
  },
  {
   "attachments": {},
   "cell_type": "markdown",
   "id": "c1888071-3e53-4411-bd13-117a412b375c",
   "metadata": {},
   "source": [
    "Q5. Using a while loop, verify if the number A is purely divisible by number B and if so then how many\n",
    "times it can be divisible."
   ]
  },
  {
   "cell_type": "code",
   "execution_count": 28,
   "id": "4cdbd97b-3496-4b84-a8ad-c240ad2d1c0e",
   "metadata": {},
   "outputs": [
    {
     "name": "stdout",
     "output_type": "stream",
     "text": [
      "130.0 is divisible by 5 1 times\n"
     ]
    }
   ],
   "source": [
    "A = 130\n",
    "B = 5\n",
    "count = 0\n",
    "\n",
    "while A % B == 0:\n",
    "    A = A / B\n",
    "    count += 1\n",
    "\n",
    "if count > 0:\n",
    "    print(f\"{A * B} is divisible by {B} {count} times\")\n",
    "else:\n",
    "    print(f\"{A * B} is not divisible by {B}\")\n"
   ]
  },
  {
   "attachments": {},
   "cell_type": "markdown",
   "id": "e04080d1-b8a1-43db-91aa-39f37eb4e108",
   "metadata": {},
   "source": [
    "Q6. Create a list containing 25 int type data. Using for loop and if-else condition print if the element is\n",
    "divisible by 3 or not."
   ]
  },
  {
   "cell_type": "code",
   "execution_count": 29,
   "id": "822e9031-6a18-4cc3-b78a-ef7fc8feef0e",
   "metadata": {},
   "outputs": [
    {
     "name": "stdout",
     "output_type": "stream",
     "text": [
      "7 is not divisible by 3\n",
      "6 is divisible by 3\n",
      "32 is not divisible by 3\n",
      "12 is divisible by 3\n",
      "18 is divisible by 3\n",
      "11 is not divisible by 3\n",
      "29 is not divisible by 3\n",
      "15 is divisible by 3\n",
      "8 is not divisible by 3\n",
      "27 is divisible by 3\n",
      "17 is not divisible by 3\n",
      "24 is divisible by 3\n",
      "19 is not divisible by 3\n",
      "20 is not divisible by 3\n",
      "36 is divisible by 3\n",
      "22 is not divisible by 3\n",
      "23 is not divisible by 3\n",
      "10 is not divisible by 3\n",
      "30 is divisible by 3\n",
      "9 is divisible by 3\n",
      "16 is not divisible by 3\n",
      "28 is not divisible by 3\n",
      "33 is divisible by 3\n",
      "25 is not divisible by 3\n",
      "21 is divisible by 3\n"
     ]
    }
   ],
   "source": [
    "my_list = [7, 6, 32, 12, 18, 11, 29, 15, 8, 27, 17, 24, 19, 20, 36, 22, 23, 10, 30, 9, 16, 28, 33, 25, 21]\n",
    "\n",
    "for element in my_list:\n",
    "    if element % 3 == 0:\n",
    "        print(f\"{element} is divisible by 3\")\n",
    "    else:\n",
    "        print(f\"{element} is not divisible by 3\")\n"
   ]
  },
  {
   "attachments": {},
   "cell_type": "markdown",
   "id": "744620a2-c149-49b1-bd26-b539d7b99112",
   "metadata": {},
   "source": [
    "Q7. What do you understand about mutable and immutable data types? Give examples for both showing\n",
    "this property."
   ]
  },
  {
   "attachments": {},
   "cell_type": "markdown",
   "id": "29705256-7806-4c5a-83f7-8b057c8ebbf1",
   "metadata": {},
   "source": [
    "In Python, there are two types of data structures: mutable and immutable. Mutable data types are those whose value can be changed after creation, while immutable data types are those whose value cannot be changed after creation.\n",
    "\n",
    "Examples of immutable data types in Python include:\n",
    "\n",
    "int (integer)\n",
    "float (floating-point number)\n",
    "bool (boolean)\n",
    "str (string)\n",
    "tuple (immutable sequence of values)"
   ]
  },
  {
   "cell_type": "code",
   "execution_count": 30,
   "id": "99696f45-9392-4c08-99c5-90df9179f83c",
   "metadata": {},
   "outputs": [
    {
     "name": "stdout",
     "output_type": "stream",
     "text": [
      "Hello World\n",
      "Hello\n"
     ]
    }
   ],
   "source": [
    "string1 = \"Hello\"\n",
    "string2 = string1\n",
    "string1 += \" World\"\n",
    "print(string1)   \n",
    "print(string2)   \n"
   ]
  },
  {
   "attachments": {},
   "cell_type": "markdown",
   "id": "55fa3f7f-4ccc-4361-ab43-8ee7cee39b83",
   "metadata": {},
   "source": [
    "In this example, we first create a string string1 with the value \"Hello\". We then create another variable string2 and assign it the value of string1. Next, we append the string \" World\" to string1 using the += operator. However, note that this does not modify the original string string1 - instead, it creates a new string with the combined value. Therefore, when we print the value of string1, we get \"Hello World\", while the value of string2 remains unchanged as \"Hello\".\n",
    "\n",
    "Examples of mutable data types in Python include:\n",
    "\n",
    "list (mutable sequence of values)\n",
    "set (mutable collection of unique values)\n",
    "dict (mutable collection of key-value pairs)\n",
    "Here's an example to demonstrate the mutability of a list:"
   ]
  },
  {
   "cell_type": "code",
   "execution_count": 31,
   "id": "3536e4a1-3ec7-434b-a6b1-3f804d474645",
   "metadata": {},
   "outputs": [
    {
     "name": "stdout",
     "output_type": "stream",
     "text": [
      "[1, 2, 3, 4]\n",
      "[1, 2, 3, 4]\n"
     ]
    }
   ],
   "source": [
    "list1 = [1, 2, 3]\n",
    "list2 = list1\n",
    "list1.append(4)\n",
    "print(list1)   \n",
    "print(list2)   "
   ]
  },
  {
   "cell_type": "code",
   "execution_count": null,
   "id": "13a4b66a-376f-4fd6-90b1-474bd9666e52",
   "metadata": {},
   "outputs": [],
   "source": []
  }
 ],
 "metadata": {
  "kernelspec": {
   "display_name": "base",
   "language": "python",
   "name": "python3"
  },
  "language_info": {
   "codemirror_mode": {
    "name": "ipython",
    "version": 3
   },
   "file_extension": ".py",
   "mimetype": "text/x-python",
   "name": "python",
   "nbconvert_exporter": "python",
   "pygments_lexer": "ipython3",
   "version": "3.9.13"
  },
  "vscode": {
   "interpreter": {
    "hash": "ad2bdc8ecc057115af97d19610ffacc2b4e99fae6737bb82f5d7fb13d2f2c186"
   }
  }
 },
 "nbformat": 4,
 "nbformat_minor": 5
}
