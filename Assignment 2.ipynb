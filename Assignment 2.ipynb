{
 "cells": [
  {
   "cell_type": "markdown",
   "id": "e26260c4-351e-4292-b19f-ebcbbce6258e",
   "metadata": {},
   "source": [
    "Q1. How do you comment code in Python? What are the different types of comments?"
   ]
  },
  {
   "cell_type": "markdown",
   "id": "81c7243f-c7fe-49a8-b0a8-b28e76753a61",
   "metadata": {},
   "source": [
    "In python have 2 types of comments below I have mention the with an example."
   ]
  },
  {
   "cell_type": "code",
   "execution_count": 1,
   "id": "03bd8b11-dc21-4551-9c50-2020f55d9873",
   "metadata": {},
   "outputs": [
    {
     "data": {
      "text/plain": [
       "'2) Multiline comment'"
      ]
     },
     "execution_count": 1,
     "metadata": {},
     "output_type": "execute_result"
    }
   ],
   "source": [
    "# 1) single line comment\n",
    "\"\"\"2) Multiline comment\"\"\""
   ]
  },
  {
   "cell_type": "markdown",
   "id": "5e53c808-426d-4157-b31d-133181f15161",
   "metadata": {},
   "source": [
    "Q2. What are variables in Python? How do you declare and assign values to ?"
   ]
  },
  {
   "cell_type": "markdown",
   "id": "74e2ac23-03d5-4d04-9d1e-b7ed9b9a52e8",
   "metadata": {},
   "source": [
    "In python variable are use to store values that can access and mainpulate throughout the program.\n",
    "To declare and assign values to variables in Python, we simply choose a name for the variable and \n",
    "use the assignment operator (=) to assign a value to it.\n",
    "Here's an example:"
   ]
  },
  {
   "cell_type": "code",
   "execution_count": 2,
   "id": "4c5bf6ba-032e-498c-8925-4e7dc8e9452a",
   "metadata": {},
   "outputs": [],
   "source": [
    "age = 25\n",
    "name = \"John Doe\"\n",
    "is_student = True\n"
   ]
  },
  {
   "cell_type": "markdown",
   "id": "9d1172e8-912a-46ea-ba61-551d08cb101b",
   "metadata": {},
   "source": [
    "Q3. How do you convert one data type to another in Python?"
   ]
  },
  {
   "cell_type": "code",
   "execution_count": 3,
   "id": "de453d33-a3ce-42ff-84e6-0e15a10c36bb",
   "metadata": {},
   "outputs": [
    {
     "name": "stdout",
     "output_type": "stream",
     "text": [
      "10\n",
      "3.14\n",
      "42\n",
      "['h', 'e', 'l', 'l', 'o']\n",
      "(1, 2, 3, 4, 5)\n",
      "{'John': 25}\n",
      "{1, 2, 3, 4, 5}\n",
      "False\n"
     ]
    }
   ],
   "source": [
    "num_str = \"10\"\n",
    "num_int = int(num_str)\n",
    "print(num_int)  \n",
    "\n",
    "\n",
    "num_str = \"3.14\"\n",
    "num_float = float(num_str)\n",
    "print(num_float)  \n",
    "\n",
    "\n",
    "num = 42\n",
    "num_str = str(num)\n",
    "print(num_str)  \n",
    "\n",
    "\n",
    "string = \"hello\"\n",
    "string_list = list(string)\n",
    "print(string_list)  \n",
    "\n",
    "\n",
    "numbers = [1, 2, 3, 4, 5]\n",
    "numbers_tuple = tuple(numbers)\n",
    "print(numbers_tuple)  \n",
    "\n",
    "\n",
    "person_tuple = (\"John\", 25)\n",
    "person_dict = dict([person_tuple])\n",
    "print(person_dict)  \n",
    "\n",
    "\n",
    "numbers = [1, 2, 2, 3, 3, 4, 5]\n",
    "numbers_set = set(numbers)\n",
    "print(numbers_set)  \n",
    "\n",
    "\n",
    "zero = 0\n",
    "is_zero_true = bool(zero)\n",
    "print(is_zero_true)  \n"
   ]
  },
  {
   "cell_type": "markdown",
   "id": "5168aead-a1a3-40f5-b352-eddc6f71b2d6",
   "metadata": {},
   "source": [
    "Q4. How do you write and execute a Python script from the command line?"
   ]
  },
  {
   "cell_type": "markdown",
   "id": "3f81f2a9-7d64-422f-a08f-37a649b0f488",
   "metadata": {},
   "source": [
    "\n",
    "\n",
    "To write and execute a Python script from the command line, following the below steps:\n",
    "\n",
    "1. Open a text editor and create a new file. You can use any text editor of your choice, such as Notepad, Sublime Text, or Visual Studio Code.\n",
    "\n",
    "2. Write Python code in the text editor. For example, let's create a simple \"hello world\" script:\n",
    "\n",
    "   \n",
    "   Print (\"Hello, world!\")\n",
    "   \n",
    "\n",
    "3. Save the file with a `.py` extension, such as `hello.py`. \n",
    "\n",
    "4. Open the command prompt or terminal on your computer. The method for opening the command line varies depending on your operating system:\n",
    "\n",
    "   - **Windows**: Press Win + R, type \"cmd,\" and press Enter.\n",
    "   - **macOS**: Press Command + Space, type \"terminal,\" and press Enter.\n",
    "   - **Linux**: Press Ctrl + Alt + T.\n",
    "\n",
    "5. Use the `cd` command to navigate to the directory where you saved Python script. For example, \n",
    "\n",
    "   ```\n",
    "   cd Desktop\n",
    "   ```\n",
    "\n",
    "6. Once the correct directory, you can execute the Python script using the `python` command followed by the script's filename. For example, if your script is named `hello.py`, you can run it with the following command:\n",
    "\n",
    "   ```\n",
    "   python hello.py\n",
    "   ```\n",
    "\n",
    "   If you have multiple versions of Python installed on your system, you may need to specify the version explicitly. In such cases, you can use a command like `python3` instead of `python`, depending on your setup.\n",
    "\n",
    "7. Press Enter to execute the command. The output of your Python script, in this case, \"Hello, world!\", will be displayed in the command prompt or terminal.\n",
    "\n",
    "\n",
    "\n",
    "\n"
   ]
  },
  {
   "cell_type": "markdown",
   "id": "7fae7a42-c400-4b58-8609-75d89d3de4e5",
   "metadata": {},
   "source": [
    "Q5. Given a list my_list = [1, 2, 3, 4, 5], write the code to slice the list and obtain the sub-list [2, 3].\n"
   ]
  },
  {
   "cell_type": "code",
   "execution_count": 5,
   "id": "540b517f-0223-4f70-ae1f-7e7ddd604cf5",
   "metadata": {},
   "outputs": [],
   "source": [
    "my_list =[1,2,3,4,5]"
   ]
  },
  {
   "cell_type": "code",
   "execution_count": 6,
   "id": "1ed16334-303a-46f1-b84c-b8045c52e9e2",
   "metadata": {},
   "outputs": [
    {
     "data": {
      "text/plain": [
       "[2, 3]"
      ]
     },
     "execution_count": 6,
     "metadata": {},
     "output_type": "execute_result"
    }
   ],
   "source": [
    "my_list[1:3]"
   ]
  },
  {
   "cell_type": "markdown",
   "id": "c7dc4419-5a90-433f-a9c7-c84ceabf2d47",
   "metadata": {},
   "source": [
    "Q6. What is a complex number in mathematics, and how is it represented in Python?"
   ]
  },
  {
   "cell_type": "markdown",
   "id": "ea6e1ed7-804c-4656-9cdd-5b37f927c1c9",
   "metadata": {},
   "source": [
    "In mathematics, a complex number is a number that comprises both a real part and an imaginary part. It is represented in the form \"a + bi,\" where \"a\" represents the real part, \"b\" represents the imaginary part, and \"i\" is the imaginary unit (√-1). The real part can be any real number, while the imaginary part is a real number multiplied by \"i.\""
   ]
  },
  {
   "cell_type": "markdown",
   "id": "a908f4a4-7bf9-43c9-afd1-ff3e19b796bf",
   "metadata": {},
   "source": [
    "In Python, complex numbers are built-in data types. To represent a complex number in Python, you use the syntax a + bj, where a represents the real part and b represents the imaginary part. Note that in Python, the imaginary unit is represented by j instead of i."
   ]
  },
  {
   "cell_type": "code",
   "execution_count": 7,
   "id": "825c9278-97f4-4d3a-a42a-4b7315f51e14",
   "metadata": {},
   "outputs": [],
   "source": [
    "z1 = 2 + 3j       # Complex number with real part 2 and imaginary part 3\n",
    "z2 = -1.5 + 4j   # Complex number with real part -1.5 and imaginary part 4\n",
    "z3 = 0 + 1j       # Complex number with real part 0 and imaginary part 1\n"
   ]
  },
  {
   "cell_type": "markdown",
   "id": "48542fa0-211e-4841-9d17-b6f725ccfb27",
   "metadata": {},
   "source": [
    "We can perform various operations on complex numbers in Python, such as addition, subtraction, multiplication, division, and more. Python provides built-in functions and operators to work with complex numbers. For example, you can use the + operator for addition, the - operator for subtraction, and the * operator for multiplication. Python also provides functions like abs() to calculate the absolute value of a complex number and cmath.phase() to calculate the phase angle."
   ]
  },
  {
   "cell_type": "code",
   "execution_count": 11,
   "id": "f1aa0569-a8f2-4160-aa3b-782371c13f94",
   "metadata": {},
   "outputs": [
    {
     "name": "stdout",
     "output_type": "stream",
     "text": [
      "Addition: (3+1j)\n",
      "Subtraction: (1+5j)\n",
      "Multiplication: (8-1j)\n",
      "Absolute value: 3.605551275463989\n"
     ]
    }
   ],
   "source": [
    "z1 = 2 + 3j\n",
    "z2 = 1 - 2j\n",
    "\n",
    "# Addition\n",
    "result_add = z1 + z2\n",
    "print(\"Addition:\", result_add)\n",
    "\n",
    "# Subtraction\n",
    "result_sub = z1 - z2\n",
    "print(\"Subtraction:\", result_sub)\n",
    "\n",
    "# Multiplication\n",
    "result_mul = z1 * z2\n",
    "print(\"Multiplication:\", result_mul)\n",
    "\n",
    "# Absolute value\n",
    "abs_value = abs(z1)\n",
    "print(\"Absolute value:\", abs_value)\n"
   ]
  },
  {
   "cell_type": "markdown",
   "id": "a5d10be9-f1e8-45a4-9c17-6e57db0d43fb",
   "metadata": {},
   "source": [
    "Q7. What is the correct way to declare a variable named age and assign the value 25 to it?"
   ]
  },
  {
   "cell_type": "markdown",
   "id": "c02ed063-55a0-455f-95c8-2b5c3138592f",
   "metadata": {},
   "source": [
    "In Python, we can declare a variable named age and assign the value 25 to it using the following syntax:"
   ]
  },
  {
   "cell_type": "code",
   "execution_count": 12,
   "id": "e633ada7-90d8-437f-bacb-5065b51a1380",
   "metadata": {},
   "outputs": [],
   "source": [
    "age = 25"
   ]
  },
  {
   "cell_type": "markdown",
   "id": "1505ea10-4565-4699-8f3a-5700617f8085",
   "metadata": {},
   "source": [
    "In this line of code, the variable age is created and assigned the value of 25. From this point onward, you can use the variable age to access or manipulate its value in your Python program."
   ]
  },
  {
   "cell_type": "markdown",
   "id": "2fb2d9ad-0d68-4659-8141-f8a7bf7a2f6a",
   "metadata": {},
   "source": [
    "Q8. Declare a variable named price and assign the value 9.99 to it. What data type does this variable\n",
    "belong to?"
   ]
  },
  {
   "cell_type": "markdown",
   "id": "5b4b7789-3755-4259-8316-a38cd5ffa860",
   "metadata": {},
   "source": [
    "When you declare a variable named price and assign the value 9.99 to it, the variable price belongs to the data type called \"float.\""
   ]
  },
  {
   "cell_type": "markdown",
   "id": "9429ed36-cfa0-4e0e-9ec5-4614f7aafac9",
   "metadata": {},
   "source": [
    "In Python, a float is a data type that represents decimal numbers. It is used to store numbers with fractional parts. The value 9.99 is a decimal number, so it is considered a float in Python."
   ]
  },
  {
   "cell_type": "code",
   "execution_count": 13,
   "id": "04f6e6ce-42ad-401a-a8d2-bba8e88c4f49",
   "metadata": {},
   "outputs": [],
   "source": [
    "price = 9.99\n"
   ]
  },
  {
   "cell_type": "markdown",
   "id": "fb095fb0-1b3b-46b5-9a21-656fd7d91187",
   "metadata": {},
   "source": [
    "Now, the variable price holds the value 9.99 as a float."
   ]
  },
  {
   "cell_type": "markdown",
   "id": "232e8028-2291-4580-afb6-2a5d3de908d6",
   "metadata": {},
   "source": [
    "Q9. Create a variable named name and assign your full name to it as a string. How would you print the\n",
    "value of this variable?"
   ]
  },
  {
   "cell_type": "code",
   "execution_count": 15,
   "id": "e98d62a9-6fca-4f74-86e8-a78414a4d624",
   "metadata": {},
   "outputs": [
    {
     "name": "stdout",
     "output_type": "stream",
     "text": [
      "Ajit Gaud\n"
     ]
    }
   ],
   "source": [
    "name = \"Ajit Gaud\"\n",
    "print(name)"
   ]
  },
  {
   "cell_type": "markdown",
   "id": "197cd450-4c31-4095-8e48-bb4ce6df0a65",
   "metadata": {},
   "source": [
    "Q10. Given the string \"Hello, World!\", extract the substring \"World\"."
   ]
  },
  {
   "cell_type": "code",
   "execution_count": 16,
   "id": "e104e318-dc37-4466-ad9d-5ace05b3380a",
   "metadata": {},
   "outputs": [
    {
     "name": "stdout",
     "output_type": "stream",
     "text": [
      "World\n"
     ]
    }
   ],
   "source": [
    "string = \"Hello, World!\"\n",
    "substring = string[7:12]\n",
    "print(substring)"
   ]
  },
  {
   "cell_type": "markdown",
   "id": "554d753f-7e05-4052-afd4-fece7e3ae7dc",
   "metadata": {},
   "source": [
    "Q11. Create a variable named \"is_student\" and assign it a boolean value indicating whether you are\n",
    "currently a student or not."
   ]
  },
  {
   "cell_type": "code",
   "execution_count": 17,
   "id": "1b9749a2-74fb-4821-81c2-01b2484cfd31",
   "metadata": {},
   "outputs": [
    {
     "name": "stdout",
     "output_type": "stream",
     "text": [
      "You are currently a student.\n"
     ]
    }
   ],
   "source": [
    "is_student = True\n",
    "\n",
    "if is_student:\n",
    "    print(\"You are currently a student.\")\n",
    "else:\n",
    "    print(\"You are not currently a student.\")\n"
   ]
  },
  {
   "cell_type": "code",
   "execution_count": null,
   "id": "f45d0762-9169-480e-aff1-f120674fcd5d",
   "metadata": {},
   "outputs": [],
   "source": []
  }
 ],
 "metadata": {
  "kernelspec": {
   "display_name": "Python 3 (ipykernel)",
   "language": "python",
   "name": "python3"
  },
  "language_info": {
   "codemirror_mode": {
    "name": "ipython",
    "version": 3
   },
   "file_extension": ".py",
   "mimetype": "text/x-python",
   "name": "python",
   "nbconvert_exporter": "python",
   "pygments_lexer": "ipython3",
   "version": "3.10.8"
  }
 },
 "nbformat": 4,
 "nbformat_minor": 5
}
